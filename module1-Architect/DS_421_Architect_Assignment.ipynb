{
  "nbformat": 4,
  "nbformat_minor": 0,
  "metadata": {
    "accelerator": "GPU",
    "colab": {
      "name": "DS_421_Architect_Assignment.ipynb",
      "provenance": [],
      "gpuType": "T4"
    },
    "kernelspec": {
      "display_name": "Python 3",
      "name": "python3"
    },
    "language_info": {
      "codemirror_mode": {
        "name": "ipython",
        "version": 3
      },
      "file_extension": ".py",
      "mimetype": "text/x-python",
      "name": "python",
      "nbconvert_exporter": "python",
      "pygments_lexer": "ipython3",
      "version": "3.8.5"
    }
  },
  "cells": [
    {
      "cell_type": "markdown",
      "metadata": {
        "id": "ObyHCH8HvHSf"
      },
      "source": [
        "\n",
        "# *Data Science Unit 4 Sprint 2 Assignment 1*\n",
        "\n",
        "Use TensorFlow Keras and a sample of the [Quickdraw dataset](https://github.com/googlecreativelab/quickdraw-dataset) to build a sketch classification model. The dataset has been sampled to only 10 classes and 10000 observations per class. \n",
        "\n",
        "### Objective\n",
        "\n",
        "- Build a baseline classification model then, run a few experiments with different optimizers and learning rates. \n",
        "- Don't forget to [**switch to GPU if you're running your notebook on Colab!**](https://colab.research.google.com/notebooks/gpu.ipynb)"
      ]
    },
    {
      "cell_type": "markdown",
      "metadata": {
        "id": "s-Tc3ovEyQ9b"
      },
      "source": [
        "## Load Your Data"
      ]
    },
    {
      "cell_type": "code",
      "metadata": {
        "id": "CkU0pAYCvU8o"
      },
      "source": [
        "# imports in first cell \n",
        "import seaborn as sns\n",
        "import pandas as pd\n",
        "import numpy as np\n",
        "import tensorflow as tf \n",
        "import matplotlib.pyplot as plt\n",
        "from sklearn.utils import shuffle\n",
        "\n",
        "# use Sequential to build out your model\n",
        "from tensorflow.keras.models import Sequential\n",
        "\n",
        "# Dense layer is used for Fully Connected Forward Feeding networks\n",
        "from tensorflow.keras.layers import Dense"
      ],
      "execution_count": 1,
      "outputs": []
    },
    {
      "cell_type": "markdown",
      "metadata": {
        "id": "UT2HFvSgDlFQ"
      },
      "source": [
        "Note that the 28x28 quickdraw images have already been \"flattened\" into 784: dimensional vectors"
      ]
    },
    {
      "cell_type": "code",
      "metadata": {
        "id": "S1XYJRQKLj1B",
        "colab": {
          "base_uri": "https://localhost:8080/"
        },
        "outputId": "72bac9c4-2ad4-42fa-f95f-7d4639dd506f"
      },
      "source": [
        "# load the quickdraw data set\n",
        "!git clone https://github.com/LambdaSchool/DS-Unit-4-Sprint-2-Neural-Networks\n",
        "data = np.load('/content/DS-Unit-4-Sprint-2-Neural-Networks/quickdraw10.npz')\n",
        "\n",
        "X = data['arr_0']\n",
        "y = data['arr_1']\n",
        "\n",
        "print(X.shape)\n",
        "print(y.shape)"
      ],
      "execution_count": 2,
      "outputs": [
        {
          "output_type": "stream",
          "name": "stdout",
          "text": [
            "Cloning into 'DS-Unit-4-Sprint-2-Neural-Networks'...\n",
            "remote: Enumerating objects: 527, done.\u001b[K\n",
            "remote: Counting objects: 100% (162/162), done.\u001b[K\n",
            "remote: Compressing objects: 100% (91/91), done.\u001b[K\n",
            "remote: Total 527 (delta 85), reused 132 (delta 70), pack-reused 365\u001b[K\n",
            "Receiving objects: 100% (527/527), 83.36 MiB | 7.75 MiB/s, done.\n",
            "Resolving deltas: 100% (268/268), done.\n",
            "(100000, 784)\n",
            "(100000,)\n"
          ]
        }
      ]
    },
    {
      "cell_type": "markdown",
      "metadata": {
        "id": "mvMjoB_yDZTL"
      },
      "source": [
        "These are the names of the 10 image classes"
      ]
    },
    {
      "cell_type": "code",
      "metadata": {
        "id": "c8qsDqdqvHDd"
      },
      "source": [
        "class_names = ['apple',\n",
        "             'anvil',\n",
        "             'airplane',\n",
        "             'banana',\n",
        "             'The Eiffel Tower',\n",
        "             'The Mona Lisa',\n",
        "             'The Great Wall of China',\n",
        "             'alarm clock',\n",
        "             'ant',\n",
        "             'asparagus']"
      ],
      "execution_count": 3,
      "outputs": []
    },
    {
      "cell_type": "markdown",
      "metadata": {
        "id": "VxuY8RYXD9S4"
      },
      "source": [
        "We can explore the data a bit by reshaping the vectors back to images and displaying them with their labels. <br>\n",
        "Turns out the data has 10 blocks of 10,000 images of each of the above labels, in order. <br>\n",
        "So the code below displays the first image of each class."
      ]
    },
    {
      "cell_type": "code",
      "metadata": {
        "id": "Owbm1EbxvA5A",
        "colab": {
          "base_uri": "https://localhost:8080/",
          "height": 400
        },
        "outputId": "88772c01-5787-4b85-a2c7-74df64eeaa16"
      },
      "source": [
        "# these are your 10 unique images\n",
        "plt.figure(figsize=(10,5))\n",
        "start = 0\n",
        "\n",
        "for num, name in enumerate(class_names):\n",
        "    plt.subplot(2,5, num+1)\n",
        "    plt.xticks([])\n",
        "    plt.yticks([])\n",
        "    plt.grid(False)\n",
        "    plt.imshow(X[start].reshape(28,28),cmap=plt.cm.binary)\n",
        "    plt.xlabel(name)\n",
        "    start += 10000\n",
        "plt.show()"
      ],
      "execution_count": 4,
      "outputs": [
        {
          "output_type": "display_data",
          "data": {
            "text/plain": [
              "<Figure size 1000x500 with 10 Axes>"
            ],
            "image/png": "[encoded data removed]"
          },
          "metadata": {}
        }
      ]
    },
    {
      "cell_type": "markdown",
      "metadata": {
        "id": "Av6i6t5QLj1D"
      },
      "source": [
        "Say hello to the Quickdraw dataset!\n",
        "\n",
        "You'll be using this dataset a lot this week as an alternative to the MNIST digits data set, which we'll use in the guided projects. The nice thing about this dataset is that it's simple, which allows us to focus on our model, its various components, and gradually come to a better understanding of how to build neural networks without worrying about cleaning and prepping our image data much."
      ]
    },
    {
      "cell_type": "code",
      "metadata": {
        "id": "c97_M1WNvTNY"
      },
      "source": [
        "# always a good idea to shuffle your dataset!\n",
        "X, y = shuffle(X, y)"
      ],
      "execution_count": 5,
      "outputs": []
    },
    {
      "cell_type": "markdown",
      "metadata": {
        "id": "jb70CbLVyK65"
      },
      "source": [
        "-----\n",
        "\n",
        "## Build Your Baseline Model\n",
        "\n",
        "Make sure that you\n",
        "\n",
        "- **Determine** the dimensionality of your input data by investigating **X**\n",
        "- **Normalize** your input data to values between 0 and 1 \n",
        "- **Determine** the number of neurons in your output layer by investigating **Y**\n",
        "- **Select** `sparse_categorical_crossentropy` as your loss function.\n",
        "- **Select** `sgd` as your optimizer.\n",
        "- **Add** 3 hidden layers to your model with the following number of nodes\n",
        "    - h1 has 500 nodes\n",
        "    - h2 has 250 nodes\n",
        "    - h3 has 100 nodes\n",
        "    \n",
        "- **Set** epochs to 20 \n",
        "- **Use** the `validation_split` keyword in `model.fit()` to automatically create a training / validation dataset from within the model. Specify a percentage, such as `validation_split = 0.2`\n",
        " \n",
        "Not sure what the various parameters are for or what values to assign to them?\n",
        "\n",
        "- Reference the guided project notebook for Sprint 2 Module 1\n",
        "- Reference the [**Keras documentation**](https://keras.io/api/)\n",
        "- Google other examples\n",
        "- Discuss your results with classmates "
      ]
    },
    {
      "cell_type": "code",
      "metadata": {
        "deletable": false,
        "nbgrader": {
          "cell_type": "code",
          "checksum": "ef20dd34df6998e0a50e394d59d58659",
          "grade": false,
          "grade_id": "cell-907b9348d7a2ebb3",
          "locked": false,
          "schema_version": 3,
          "solution": true,
          "task": false
        },
        "id": "f133nwpOLj1G"
      },
      "source": [
        "# get dim of image row vectors and save to input_dim\n",
        "input_dim = X.shape[1]\n",
        "\n",
        "# get number of unique labels and save to n_output_labels\n",
        "n_output_nodes = len(np.unique(y))\n",
        "\n",
        "# normalize image data to values between 0 and 1 (by dividing by max pixel value)\n",
        "max_pixel_value = X.max()\n",
        "X_scaled = X/max_pixel_value\n",
        "\n",
        "# YOUR CODE HERE\n"
      ],
      "execution_count": 6,
      "outputs": []
    },
    {
      "cell_type": "code",
      "metadata": {
        "id": "vOufsWS3Lj1G"
      },
      "source": [
        "# a check on your data prep \n",
        "assert  X_scaled.max(), \"Max pixel value should be 1.0, make sure you normalize your data\""
      ],
      "execution_count": 7,
      "outputs": []
    },
    {
      "cell_type": "code",
      "metadata": {
        "deletable": false,
        "id": "zHWblzsMyNkU",
        "nbgrader": {
          "cell_type": "code",
          "checksum": "f0ba174cb72f491f73c3aa7df8ae7ac4",
          "grade": false,
          "grade_id": "cell-b7c96fc46d86725f",
          "locked": false,
          "schema_version": 3,
          "solution": true,
          "task": false
        }
      },
      "source": [
        "# instantiate a sequential object and call it model, then add the layers to your model\n",
        "\n",
        "# add a compile layer but don't fit your model yet \n",
        "\n",
        "# YOUR CODE HERE\n",
        "epochs = 20\n",
        "model = Sequential()\n",
        "\n",
        "model.add(\n",
        "    # hidden layer 1\n",
        "    Dense(500, activation='sigmoid', input_dim=input_dim)\n",
        ")\n",
        "\n",
        "model.add(\n",
        "    # hidden layer 2\n",
        "    Dense(250, activation='sigmoid')\n",
        ")\n",
        "\n",
        "model.add(\n",
        "    # hidden layer 2\n",
        "    Dense(100, activation='sigmoid')\n",
        ")\n",
        "\n",
        "model.add(\n",
        "    # output layer\n",
        "    Dense(n_output_nodes, activation='softmax')\n",
        ")\n",
        "\n",
        "model.compile(optimizer='sgd',\n",
        "              loss='sparse_categorical_crossentropy',\n",
        "              metrics=['accuracy'])"
      ],
      "execution_count": 8,
      "outputs": []
    },
    {
      "cell_type": "code",
      "metadata": {
        "id": "ojLnGDklLj1H"
      },
      "source": [
        "# a check on your model architecture \n",
        "n_layers = len(model.get_config()[\"layers\"])\n",
        "assert n_layers == 5, \"You should have 5 layers: input, h1, h2, h3, and output\""
      ],
      "execution_count": 9,
      "outputs": []
    },
    {
      "cell_type": "code",
      "metadata": {
        "id": "wMK2_DtJLj1I",
        "outputId": "7c7f753d-decf-4017-bc3f-ee42fd890044",
        "colab": {
          "base_uri": "https://localhost:8080/"
        }
      },
      "source": [
        "# check out your model summary \n",
        "model.summary()"
      ],
      "execution_count": 10,
      "outputs": [
        {
          "output_type": "stream",
          "name": "stdout",
          "text": [
            "Model: \"sequential\"\n",
            "_________________________________________________________________\n",
            " Layer (type)                Output Shape              Param #   \n",
            "=================================================================\n",
            " dense (Dense)               (None, 500)               392500    \n",
            "                                                                 \n",
            " dense_1 (Dense)             (None, 250)               125250    \n",
            "                                                                 \n",
            " dense_2 (Dense)             (None, 100)               25100     \n",
            "                                                                 \n",
            " dense_3 (Dense)             (None, 10)                1010      \n",
            "                                                                 \n",
            "=================================================================\n",
            "Total params: 543,860\n",
            "Trainable params: 543,860\n",
            "Non-trainable params: 0\n",
            "_________________________________________________________________\n"
          ]
        }
      ]
    },
    {
      "cell_type": "code",
      "metadata": {
        "id": "DXTSbEiyLj1I",
        "outputId": "55c22e96-f6a0-4c5e-e331-6d71d5d03f67",
        "colab": {
          "base_uri": "https://localhost:8080/"
        }
      },
      "source": [
        "# fit your model and save training results to history \n",
        "history = model.fit(X_scaled, y, \n",
        "                    epochs=epochs, \n",
        "                    # a held-out validation set will be generated within the model\n",
        "                    validation_split=0.2\n",
        "                   )"
      ],
      "execution_count": 11,
      "outputs": [
        {
          "output_type": "stream",
          "name": "stdout",
          "text": [
            "Epoch 1/20\n",
            "2500/2500 [==============================] - 14s 4ms/step - loss: 2.2898 - accuracy: 0.1441 - val_loss: 2.2686 - val_accuracy: 0.3017\n",
            "Epoch 2/20\n",
            "2500/2500 [==============================] - 8s 3ms/step - loss: 2.2024 - accuracy: 0.2867 - val_loss: 2.0736 - val_accuracy: 0.4191\n",
            "Epoch 3/20\n",
            "2500/2500 [==============================] - 9s 4ms/step - loss: 1.8649 - accuracy: 0.4225 - val_loss: 1.6985 - val_accuracy: 0.4749\n",
            "Epoch 4/20\n",
            "2500/2500 [==============================] - 9s 4ms/step - loss: 1.5784 - accuracy: 0.5113 - val_loss: 1.4843 - val_accuracy: 0.5325\n",
            "Epoch 5/20\n",
            "2500/2500 [==============================] - 8s 3ms/step - loss: 1.3899 - accuracy: 0.5727 - val_loss: 1.3046 - val_accuracy: 0.6068\n",
            "Epoch 6/20\n",
            "2500/2500 [==============================] - 9s 3ms/step - loss: 1.2340 - accuracy: 0.6204 - val_loss: 1.1739 - val_accuracy: 0.6413\n",
            "Epoch 7/20\n",
            "2500/2500 [==============================] - 9s 4ms/step - loss: 1.1221 - accuracy: 0.6578 - val_loss: 1.0736 - val_accuracy: 0.6747\n",
            "Epoch 8/20\n",
            "2500/2500 [==============================] - 9s 4ms/step - loss: 1.0299 - accuracy: 0.6911 - val_loss: 0.9923 - val_accuracy: 0.7038\n",
            "Epoch 9/20\n",
            "2500/2500 [==============================] - 8s 3ms/step - loss: 0.9645 - accuracy: 0.7121 - val_loss: 0.9416 - val_accuracy: 0.7226\n",
            "Epoch 10/20\n",
            "2500/2500 [==============================] - 9s 4ms/step - loss: 0.9249 - accuracy: 0.7234 - val_loss: 0.9136 - val_accuracy: 0.7259\n",
            "Epoch 11/20\n",
            "2500/2500 [==============================] - 9s 4ms/step - loss: 0.8993 - accuracy: 0.7307 - val_loss: 0.8892 - val_accuracy: 0.7368\n",
            "Epoch 12/20\n",
            "2500/2500 [==============================] - 8s 3ms/step - loss: 0.8805 - accuracy: 0.7360 - val_loss: 0.8719 - val_accuracy: 0.7429\n",
            "Epoch 13/20\n",
            "2500/2500 [==============================] - 9s 4ms/step - loss: 0.8646 - accuracy: 0.7409 - val_loss: 0.8588 - val_accuracy: 0.7447\n",
            "Epoch 14/20\n",
            "2500/2500 [==============================] - 9s 3ms/step - loss: 0.8504 - accuracy: 0.7445 - val_loss: 0.8443 - val_accuracy: 0.7497\n",
            "Epoch 15/20\n",
            "2500/2500 [==============================] - 10s 4ms/step - loss: 0.8366 - accuracy: 0.7495 - val_loss: 0.8327 - val_accuracy: 0.7506\n",
            "Epoch 16/20\n",
            "2500/2500 [==============================] - 8s 3ms/step - loss: 0.8232 - accuracy: 0.7539 - val_loss: 0.8182 - val_accuracy: 0.7574\n",
            "Epoch 17/20\n",
            "2500/2500 [==============================] - 9s 4ms/step - loss: 0.8105 - accuracy: 0.7583 - val_loss: 0.8068 - val_accuracy: 0.7598\n",
            "Epoch 18/20\n",
            "2500/2500 [==============================] - 9s 3ms/step - loss: 0.7980 - accuracy: 0.7620 - val_loss: 0.7983 - val_accuracy: 0.7649\n",
            "Epoch 19/20\n",
            "2500/2500 [==============================] - 9s 4ms/step - loss: 0.7864 - accuracy: 0.7662 - val_loss: 0.7835 - val_accuracy: 0.7672\n",
            "Epoch 20/20\n",
            "2500/2500 [==============================] - 9s 4ms/step - loss: 0.7756 - accuracy: 0.7690 - val_loss: 0.7746 - val_accuracy: 0.7676\n"
          ]
        }
      ]
    },
    {
      "cell_type": "markdown",
      "metadata": {
        "id": "b0QJURWh-9uv"
      },
      "source": [
        "----\n",
        "### Visualize the Results\n",
        "\n",
        "- Move results in `history` to a dataframe. \n",
        "- Use [**Seaborn**](https://seaborn.pydata.org/generated/seaborn.lineplot.html) to create line plots for both loss and accuracy by epoch. \n",
        "- Analyze the results and write a couple of observations. \n",
        "\n",
        "At what point should we have stopped training the model and why? "
      ]
    },
    {
      "cell_type": "code",
      "metadata": {
        "deletable": false,
        "id": "ijAlzfYKAFaY",
        "nbgrader": {
          "cell_type": "code",
          "checksum": "6ef8cde40701c2ef57cf853b19455125",
          "grade": false,
          "grade_id": "cell-16e647cfc3291a01",
          "locked": false,
          "schema_version": 3,
          "solution": true,
          "task": false
        }
      },
      "source": [
        "# YOUR CODE HERE\n",
        "df = pd.DataFrame.from_records(history.history)\n",
        "n_rows = df.shape[0]\n",
        "\n",
        "df.index = [i for i in range(1, n_rows+1)]"
      ],
      "execution_count": 12,
      "outputs": []
    },
    {
      "cell_type": "code",
      "source": [
        "df.head()"
      ],
      "metadata": {
        "id": "doH5er1CtVY9",
        "outputId": "e0e69215-abe0-4de3-a2c8-2fb95fa95b1f",
        "colab": {
          "base_uri": "https://localhost:8080/",
          "height": 206
        }
      },
      "execution_count": 13,
      "outputs": [
        {
          "output_type": "execute_result",
          "data": {
            "text/plain": [
              "   accuracy      loss  val_accuracy  val_loss\n",
              "1  0.144138  2.289772       0.30170  2.268618\n",
              "2  0.286738  2.202369       0.41905  2.073631\n",
              "3  0.422550  1.864865       0.47495  1.698542\n",
              "4  0.511350  1.578431       0.53255  1.484331\n",
              "5  0.572662  1.389864       0.60675  1.304602"
            ],
            "text/html": [
              "\n",
              "  <div id=\"df-9139413b-78f2-44cf-9d1a-4e0d8b8f3243\">\n",
              "    <div class=\"colab-df-container\">\n",
              "      <div>\n",
              "<style scoped>\n",
              "    .dataframe tbody tr th:only-of-type {\n",
              "        vertical-align: middle;\n",
              "    }\n",
              "\n",
              "    .dataframe tbody tr th {\n",
              "        vertical-align: top;\n",
              "    }\n",
              "\n",
              "    .dataframe thead th {\n",
              "        text-align: right;\n",
              "    }\n",
              "</style>\n",
              "<table border=\"1\" class=\"dataframe\">\n",
              "  <thead>\n",
              "    <tr style=\"text-align: right;\">\n",
              "      <th></th>\n",
              "      <th>accuracy</th>\n",
              "      <th>loss</th>\n",
              "      <th>val_accuracy</th>\n",
              "      <th>val_loss</th>\n",
              "    </tr>\n",
              "  </thead>\n",
              "  <tbody>\n",
              "    <tr>\n",
              "      <th>1</th>\n",
              "      <td>0.144138</td>\n",
              "      <td>2.289772</td>\n",
              "      <td>0.30170</td>\n",
              "      <td>2.268618</td>\n",
              "    </tr>\n",
              "    <tr>\n",
              "      <th>2</th>\n",
              "      <td>0.286738</td>\n",
              "      <td>2.202369</td>\n",
              "      <td>0.41905</td>\n",
              "      <td>2.073631</td>\n",
              "    </tr>\n",
              "    <tr>\n",
              "      <th>3</th>\n",
              "      <td>0.422550</td>\n",
              "      <td>1.864865</td>\n",
              "      <td>0.47495</td>\n",
              "      <td>1.698542</td>\n",
              "    </tr>\n",
              "    <tr>\n",
              "      <th>4</th>\n",
              "      <td>0.511350</td>\n",
              "      <td>1.578431</td>\n",
              "      <td>0.53255</td>\n",
              "      <td>1.484331</td>\n",
              "    </tr>\n",
              "    <tr>\n",
              "      <th>5</th>\n",
              "      <td>0.572662</td>\n",
              "      <td>1.389864</td>\n",
              "      <td>0.60675</td>\n",
              "      <td>1.304602</td>\n",
              "    </tr>\n",
              "  </tbody>\n",
              "</table>\n",
              "</div>\n",
              "      <button class=\"colab-df-convert\" onclick=\"convertToInteractive('df-9139413b-78f2-44cf-9d1a-4e0d8b8f3243')\"\n",
              "              title=\"Convert this dataframe to an interactive table.\"\n",
              "              style=\"display:none;\">\n",
              "        \n",
              "  <svg xmlns=\"http://www.w3.org/2000/svg\" height=\"24px\"viewBox=\"0 0 24 24\"\n",
              "       width=\"24px\">\n",
              "    <path d=\"M0 0h24v24H0V0z\" fill=\"none\"/>\n",
              "    <path d=\"M18.56 5.44l.94 2.06.94-2.06 2.06-.94-2.06-.94-.94-2.06-.94 2.06-2.06.94zm-11 1L8.5 8.5l.94-2.06 2.06-.94-2.06-.94L8.5 2.5l-.94 2.06-2.06.94zm10 10l.94 2.06.94-2.06 2.06-.94-2.06-.94-.94-2.06-.94 2.06-2.06.94z\"/><path d=\"M17.41 7.96l-1.37-1.37c-.4-.4-.92-.59-1.43-.59-.52 0-1.04.2-1.43.59L10.3 9.45l-7.72 7.72c-.78.78-.78 2.05 0 2.83L4 21.41c.39.39.9.59 1.41.59.51 0 1.02-.2 1.41-.59l7.78-7.78 2.81-2.81c.8-.78.8-2.07 0-2.86zM5.41 20L4 18.59l7.72-7.72 1.47 1.35L5.41 20z\"/>\n",
              "  </svg>\n",
              "      </button>\n",
              "      \n",
              "  <style>\n",
              "    .colab-df-container {\n",
              "      display:flex;\n",
              "      flex-wrap:wrap;\n",
              "      gap: 12px;\n",
              "    }\n",
              "\n",
              "    .colab-df-convert {\n",
              "      background-color: #E8F0FE;\n",
              "      border: none;\n",
              "      border-radius: 50%;\n",
              "      cursor: pointer;\n",
              "      display: none;\n",
              "      fill: #1967D2;\n",
              "      height: 32px;\n",
              "      padding: 0 0 0 0;\n",
              "      width: 32px;\n",
              "    }\n",
              "\n",
              "    .colab-df-convert:hover {\n",
              "      background-color: #E2EBFA;\n",
              "      box-shadow: 0px 1px 2px rgba(60, 64, 67, 0.3), 0px 1px 3px 1px rgba(60, 64, 67, 0.15);\n",
              "      fill: #174EA6;\n",
              "    }\n",
              "\n",
              "    [theme=dark] .colab-df-convert {\n",
              "      background-color: #3B4455;\n",
              "      fill: #D2E3FC;\n",
              "    }\n",
              "\n",
              "    [theme=dark] .colab-df-convert:hover {\n",
              "      background-color: #434B5C;\n",
              "      box-shadow: 0px 1px 3px 1px rgba(0, 0, 0, 0.15);\n",
              "      filter: drop-shadow(0px 1px 2px rgba(0, 0, 0, 0.3));\n",
              "      fill: #FFFFFF;\n",
              "    }\n",
              "  </style>\n",
              "\n",
              "      <script>\n",
              "        const buttonEl =\n",
              "          document.querySelector('#df-9139413b-78f2-44cf-9d1a-4e0d8b8f3243 button.colab-df-convert');\n",
              "        buttonEl.style.display =\n",
              "          google.colab.kernel.accessAllowed ? 'block' : 'none';\n",
              "\n",
              "        async function convertToInteractive(key) {\n",
              "          const element = document.querySelector('#df-9139413b-78f2-44cf-9d1a-4e0d8b8f3243');\n",
              "          const dataTable =\n",
              "            await google.colab.kernel.invokeFunction('convertToInteractive',\n",
              "                                                     [key], {});\n",
              "          if (!dataTable) return;\n",
              "\n",
              "          const docLinkHtml = 'Like what you see? Visit the ' +\n",
              "            '<a target=\"_blank\" href=https://colab.research.google.com/notebooks/data_table.ipynb>data table notebook</a>'\n",
              "            + ' to learn more about interactive tables.';\n",
              "          element.innerHTML = '';\n",
              "          dataTable['output_type'] = 'display_data';\n",
              "          await google.colab.output.renderOutput(dataTable, element);\n",
              "          const docLink = document.createElement('div');\n",
              "          docLink.innerHTML = docLinkHtml;\n",
              "          element.appendChild(docLink);\n",
              "        }\n",
              "      </script>\n",
              "    </div>\n",
              "  </div>\n",
              "  "
            ]
          },
          "metadata": {},
          "execution_count": 13
        }
      ]
    },
    {
      "cell_type": "code",
      "metadata": {
        "id": "jFTzaMcALj1J"
      },
      "source": [
        "# a check on our model training\n",
        "assert df.shape[0] == 20, \"df should have the training results from 20 epochs\""
      ],
      "execution_count": 14,
      "outputs": []
    },
    {
      "cell_type": "code",
      "metadata": {
        "deletable": false,
        "nbgrader": {
          "cell_type": "code",
          "checksum": "424d241660318a72ecda935be10485d7",
          "grade": false,
          "grade_id": "cell-96dba18873c4cffc",
          "locked": false,
          "schema_version": 3,
          "solution": true,
          "task": false
        },
        "id": "i6NnocuJLj1J",
        "outputId": "ef0233ef-a87e-4dd6-87fd-8ab2c180e481",
        "colab": {
          "base_uri": "https://localhost:8080/",
          "height": 407
        }
      },
      "source": [
        "# use seaborn to plot loss and accuracy metrics\n",
        "\n",
        "# YOUR CODE HERE\n",
        "plot_cols = [\"loss\", \"val_loss\"]\n",
        "df[plot_cols].plot(figsize=(20,6), grid=True);\n",
        "plt.title(\"Model Loss vs Epoch\");\n",
        "plt.xlabel(\"Epochs\");\n",
        "plt.ylabel(\"Validation Loss\");\n",
        "plt.xticks(df.index);"
      ],
      "execution_count": 15,
      "outputs": [
        {
          "output_type": "display_data",
          "data": {
            "text/plain": [
              "<Figure size 2000x600 with 1 Axes>"
            ],
            "image/png": "[encoded data removed]"
          },
          "metadata": {}
        }
      ]
    },
    {
      "cell_type": "markdown",
      "metadata": {
        "id": "GmjyuTlrLj1K"
      },
      "source": [
        "### Observations \n",
        "\n",
        "Based on the plot of the training and validation loss, answer the following questions. "
      ]
    },
    {
      "cell_type": "markdown",
      "metadata": {
        "id": "NF_mrNmPLj1K"
      },
      "source": [
        "**Was our model able to learn throughout the 20 epochs? Why or why not?**"
      ]
    },
    {
      "cell_type": "markdown",
      "metadata": {
        "deletable": false,
        "nbgrader": {
          "cell_type": "markdown",
          "checksum": "b7713eb32ad3a910a58dfdb9494a9db3",
          "grade": true,
          "grade_id": "cell-820990a8232a858a",
          "locked": false,
          "points": 0,
          "schema_version": 3,
          "solution": true,
          "task": false
        },
        "id": "yL42yLWELj1K"
      },
      "source": [
        "YOUR ANSWER HERE"
      ]
    },
    {
      "cell_type": "markdown",
      "metadata": {
        "id": "_xKObFanLj1K"
      },
      "source": [
        "**Is our model overfitting? Why or why not?**"
      ]
    },
    {
      "cell_type": "markdown",
      "metadata": {
        "deletable": false,
        "nbgrader": {
          "cell_type": "markdown",
          "checksum": "1d30c64465cd35081d70578c20ecf96d",
          "grade": true,
          "grade_id": "cell-33868e7ef6e401b5",
          "locked": false,
          "points": 0,
          "schema_version": 3,
          "solution": true,
          "task": false
        },
        "id": "rx7xa4Z1Lj1L"
      },
      "source": [
        "YOUR ANSWER HERE"
      ]
    },
    {
      "cell_type": "markdown",
      "metadata": {
        "id": "FIvb1mftLj1L"
      },
      "source": [
        "**Could the model score benefit from additional epochs? Why or why not?**"
      ]
    },
    {
      "cell_type": "markdown",
      "metadata": {
        "deletable": false,
        "nbgrader": {
          "cell_type": "markdown",
          "checksum": "0fc2208e2c78461578fc7a05224066b8",
          "grade": true,
          "grade_id": "cell-5c883f0a3161e469",
          "locked": false,
          "points": 0,
          "schema_version": 3,
          "solution": true,
          "task": false
        },
        "id": "Ww1hBmfMLj1L"
      },
      "source": [
        "YOUR ANSWER HERE"
      ]
    },
    {
      "cell_type": "markdown",
      "metadata": {
        "id": "MAhBrcE4yOZe"
      },
      "source": [
        "-----\n",
        "## Change Optimizers\n",
        "\n",
        "Let's compare model performance between different optimizers. \n",
        "- Build a new model, identical to the last one but using `adam` for the optimizer. \n",
        "- Train (fit) the model\n",
        "- Save the modeling results to adam_history, so we don't erase the results from the previous model run\n",
        "- Visualize the training results just as we did for the last model. \n"
      ]
    },
    {
      "cell_type": "code",
      "metadata": {
        "deletable": false,
        "id": "jIW_spOZ0cxy",
        "nbgrader": {
          "cell_type": "code",
          "checksum": "6d30d8c6f4521861a77c9ef04dbde904",
          "grade": false,
          "grade_id": "cell-56663c8a5e75b71f",
          "locked": false,
          "schema_version": 3,
          "solution": true,
          "task": false
        }
      },
      "source": [
        "# train the same model as above but use the sgd optimizer if you used adam previously (or use adam if you used sgd previously)\n",
        "\n",
        "# YOUR CODE HERE\n",
        "raise NotImplementedError()"
      ],
      "execution_count": null,
      "outputs": []
    },
    {
      "cell_type": "code",
      "metadata": {
        "id": "u9DQypQOLj1L"
      },
      "source": [
        "# a check that we're using the correct optimizer in this model\n",
        "opt_name = model.optimizer.get_config()[\"name\"]\n",
        "assert opt_name == \"Adam\", \"you need to use adam for the optimizer in this model.\""
      ],
      "execution_count": null,
      "outputs": []
    },
    {
      "cell_type": "code",
      "metadata": {
        "deletable": false,
        "nbgrader": {
          "cell_type": "code",
          "checksum": "1a4c01aa7dbcc832d75b05bffaeaacc8",
          "grade": false,
          "grade_id": "cell-20118d1646215346",
          "locked": false,
          "schema_version": 3,
          "solution": true,
          "task": false
        },
        "id": "wBVj55zVLj1L"
      },
      "source": [
        "# YOUR CODE HERE\n",
        "raise NotImplementedError()"
      ],
      "execution_count": null,
      "outputs": []
    },
    {
      "cell_type": "markdown",
      "metadata": {
        "id": "XECc5OtzLj1M"
      },
      "source": [
        "### Observations \n",
        "\n",
        "This plot should look very different from the previous plot. Based on the plot of the training and validation loss, answer the following questions. "
      ]
    },
    {
      "cell_type": "markdown",
      "metadata": {
        "id": "tK8B5CszLj1M"
      },
      "source": [
        "**Is our model overfitting? Why or why not?**"
      ]
    },
    {
      "cell_type": "markdown",
      "metadata": {
        "deletable": false,
        "nbgrader": {
          "cell_type": "markdown",
          "checksum": "fa4141497af675d227aa510feb8db732",
          "grade": true,
          "grade_id": "cell-7e524ccac970c33e",
          "locked": false,
          "points": 0,
          "schema_version": 3,
          "solution": true,
          "task": false
        },
        "id": "Fn6C8NWTLj1M"
      },
      "source": [
        "YOUR ANSWER HERE"
      ]
    },
    {
      "cell_type": "markdown",
      "metadata": {
        "id": "ygXQYH8ILj1M"
      },
      "source": [
        "**Could our model's performance improve by training on more than 20 epochs? Why or why not?**"
      ]
    },
    {
      "cell_type": "markdown",
      "metadata": {
        "deletable": false,
        "nbgrader": {
          "cell_type": "markdown",
          "checksum": "ae03b8b897eb5d052590574ab3bba839",
          "grade": true,
          "grade_id": "cell-456c40e885652955",
          "locked": false,
          "points": 0,
          "schema_version": 3,
          "solution": true,
          "task": false
        },
        "id": "Sa5SRkB1Lj1M"
      },
      "source": [
        "YOUR ANSWER HERE"
      ]
    },
    {
      "cell_type": "markdown",
      "metadata": {
        "id": "bNxtLggeLj1M"
      },
      "source": [
        "**Assuming that you want to stick to this model architecture, what can you do to avoid overfitting?**"
      ]
    },
    {
      "cell_type": "markdown",
      "metadata": {
        "deletable": false,
        "nbgrader": {
          "cell_type": "markdown",
          "checksum": "9f5a9393314231d3ce253363c1df1223",
          "grade": true,
          "grade_id": "cell-74d7def19c66702b",
          "locked": false,
          "points": 0,
          "schema_version": 3,
          "solution": true,
          "task": false
        },
        "id": "tfztMm3rLj1M"
      },
      "source": [
        "YOUR ANSWER HERE"
      ]
    },
    {
      "cell_type": "markdown",
      "metadata": {
        "id": "ViaTP68cLj1M"
      },
      "source": [
        "------\n",
        "# Conclusion \n",
        "\n",
        "You have observed by comparing the two models that are identical except for the optimizer, that the choice of the optimizer can considerably influence the performance of a neural network. \n",
        "\n",
        "You might not know \n",
        "\n",
        "- why changing the optimizer from Stochastic Gradient Descent over to Adam made a difference.\n",
        "- how Gradient Descent works \n",
        "- or that Adam is known as Adaptive Gradient Descent (i.e., is it a different version of ordinary Gradient Descent). \n",
        "\n",
        "But that's ok - tomorrow's lesson will be a deep dive into Gradient Descent. You'll learn the theory of Gradient Descent, we'll code up Gradient Descent from scratch, and we'll talk about how Adam is different from ordinary Gradient Descent. "
      ]
    },
    {
      "cell_type": "markdown",
      "metadata": {
        "id": "8v_TuVH5Lj1N"
      },
      "source": [
        "-----\n",
        "# Preparation for Tomorrow \n",
        "\n",
        "In preparation for tomorrow, you might need to watch a few videos. I say it might because you may or may not already be comfortable with multi-variate calculus. \n",
        "\n",
        "### Theory of Calculus \n",
        "The theory of Gradient Descent rests on [**the derivative from Calculus**](https://www.youtube.com/watch?v=WUvTyaaNkzM). If you've never taken a Calculus course before, or are a bit rusty, definitely watch this video in preparation for tomorrow's lesson. The takeaway here is to understand the derivative conceptually; you won't be asked to calculate any derivatives by hand. \n",
        "\n",
        "### The Gradient - a Multi-Dimensional Derivative\n",
        "Once you've watched the previous video, you will be ready to understand how to conceptualize a derivative in an N-dimensional space (where N is any number ranging from 2, 3, 4, ..., all the way to a very large number of dimensions N ). [**This video visually explains the multi-dimensional derivative called the Gradient visually**](https://www.youtube.com/watch?v=GkB4vW16QHI) - and that's the takeaway. The point of this video is to help you understand the Gradient visually using 3D surfaces. You should also know that the Gradient is made up of partial derivatives, more on this tomorrow. \n",
        "\n",
        "### Contour Maps \n",
        "It is very common to visual 3D surfaces as 2D contour maps - and we'll be making a lot of use of contour maps to understand Gradient Descent. Watch this video to [**understand the relationship between 3D surfaces and 2D contour maps.**](https://www.youtube.com/watch?v=acdX4YamDtU)\n",
        "\n",
        "### The Calculus of Backpropagation \n",
        "\n",
        "Unlike standard Sklearn ML models, neural networks use Gradient Descent and something called Backpropagatin to learn from the data. [**In order to understand how backpropagation works, you need to understand the Chain Rule in Calculus**](https://www.youtube.com/watch?v=acdX4YamDtU). The takeaway here is to understand how a partial derivative can be decomposed into a product of multiple derivatives. "
      ]
    },
    {
      "cell_type": "markdown",
      "metadata": {
        "id": "XCjBp0vTLj1N"
      },
      "source": [
        "------\n",
        "# Stretch Goals\n",
        "\n",
        "### This Section is Optional!\n",
        "\n",
        "Only after you've completed the above work and watched the recommended videos are you then encouraged to experiment with building a few more models and analyze their results. \n",
        "\n",
        "Here are some suggestions to help you get started. \n",
        "\n",
        "- Train the same model using the Sigmoid and Relu activation functions and note the difference in their learning outcomes. [**Keras docs on activation functions**](https://keras.io/api/layers/activations/). We'll cover the Relu activation function in Sprint 2 Module 3.\n",
        "- Train the same model using normalized and non-normalized data and note the difference in their learning outcomes. \n",
        "\n",
        "\n",
        "The objective here is to get more practice with the Keras API (i.e., building models) and run a couple of experiments to help set you up for future lessons. In order words, we'll be discussing different activation functions and the effect of normalized data on model training."
      ]
    },
    {
      "cell_type": "code",
      "metadata": {
        "id": "5F1VQLmALj1N"
      },
      "source": [],
      "execution_count": null,
      "outputs": []
    }
  ]
}